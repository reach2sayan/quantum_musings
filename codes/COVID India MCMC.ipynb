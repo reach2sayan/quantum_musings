{
 "cells": [
  {
   "cell_type": "code",
   "execution_count": 5,
   "metadata": {
    "colab": {},
    "colab_type": "code",
    "executionInfo": {
     "elapsed": 2576,
     "status": "ok",
     "timestamp": 1593096542158,
     "user": {
      "displayName": "Sayan Samanta",
      "photoUrl": "https://lh3.googleusercontent.com/a-/AOh14GgOuT4BQxbOWcYTW_r0RQ02DqKvgrpoyxBKqxPAUi8=s64",
      "userId": "03850430243742702686"
     },
     "user_tz": 240
    },
    "id": "eIuPiqnnXzdt"
   },
   "outputs": [],
   "source": [
    "import warnings\n",
    "warnings.simplefilter(action='ignore', category=FutureWarning)\n",
    "\n",
    "import os\n",
    "import requests\n",
    "import pymc3 as pm\n",
    "import pandas as pd\n",
    "import numpy as np\n",
    "import theano\n",
    "import theano.tensor as tt\n",
    "\n",
    "from matplotlib import pyplot as plt\n",
    "from matplotlib import dates as mdates\n",
    "from matplotlib import ticker\n",
    "\n",
    "from datetime import date\n",
    "from datetime import datetime\n",
    "\n",
    "from IPython.display import clear_output\n",
    "\n",
    "%config InlineBackend.figure_format = 'retina'"
   ]
  },
  {
   "cell_type": "code",
   "execution_count": 19,
   "metadata": {
    "colab": {
     "base_uri": "https://localhost:8080/",
     "height": 86
    },
    "colab_type": "code",
    "executionInfo": {
     "elapsed": 2789,
     "status": "ok",
     "timestamp": 1593097050752,
     "user": {
      "displayName": "Sayan Samanta",
      "photoUrl": "https://lh3.googleusercontent.com/a-/AOh14GgOuT4BQxbOWcYTW_r0RQ02DqKvgrpoyxBKqxPAUi8=s64",
      "userId": "03850430243742702686"
     },
     "user_tz": 240
    },
    "id": "ssZPw7dTX5tx",
    "outputId": "fde4eb1f-daa0-4139-e37a-05f9e8b9cb48"
   },
   "outputs": [
    {
     "name": "stdout",
     "output_type": "stream",
     "text": [
      "Reading: https://api.covid19india.org/csv/latest/raw_data3.csv\n",
      "Reading: https://api.covid19india.org/csv/latest/raw_data4.csv\n",
      "Reading: https://api.covid19india.org/csv/latest/raw_data5.csv\n",
      "Reading: https://api.covid19india.org/csv/latest/raw_data6.csv\n"
     ]
    }
   ],
   "source": [
    "def get_dataframe_india(url):\n",
    "  print(\"Reading: \"+url)\n",
    "  df = pd.read_csv(url,usecols=['Patient Number', 'Date Announced', 'Detected State'])\n",
    "  return df\n",
    "\n",
    "urls = [\"https://api.covid19india.org/csv/latest/raw_data\"+str(i)+\".csv\" for i in range(3,7)]\n",
    "data_frames = [get_dataframe_india(url) for url in urls]\n",
    "\n",
    "df = pd.concat(data_frames).reset_index(drop = True)\n",
    "df.rename(columns={'Detected State':'country',\n",
    "                    'Date Announced':'date',\n",
    "                   'Patient Number': 'positive'}, \n",
    "                 inplace=True)\n",
    "df.to_csv(\"today_data.csv\",index=False)\n",
    "\n",
    "dateparse = lambda x: datetime.strptime(x, '%d/%m/%Y')\n",
    "\n",
    "countries = pd.read_csv(\"today_data.csv\",\n",
    "                     parse_dates=['date'], date_parser=dateparse,#infer_datetime_format=True,\n",
    "                     index_col=['country', 'date'],squeeze=True).sort_index()\n",
    "\n",
    "countries = countries[~countries.index.duplicated(keep='last')]"
   ]
  },
  {
   "cell_type": "code",
   "execution_count": 21,
   "metadata": {
    "colab": {
     "base_uri": "https://localhost:8080/",
     "height": 972
    },
    "colab_type": "code",
    "executionInfo": {
     "elapsed": 707,
     "status": "ok",
     "timestamp": 1593097067494,
     "user": {
      "displayName": "Sayan Samanta",
      "photoUrl": "https://lh3.googleusercontent.com/a-/AOh14GgOuT4BQxbOWcYTW_r0RQ02DqKvgrpoyxBKqxPAUi8=s64",
      "userId": "03850430243742702686"
     },
     "user_tz": 240
    },
    "id": "auziL8sU9SOx",
    "outputId": "5887fe1a-320c-4ad2-a32e-8da7bddf17b8"
   },
   "outputs": [
    {
     "data": {
      "text/plain": [
       "date\n",
       "2020-04-28      819.0\n",
       "2020-04-29      116.0\n",
       "2020-04-30      680.0\n",
       "2020-05-01     1551.0\n",
       "2020-05-02       94.0\n",
       "2020-05-03     1479.0\n",
       "2020-05-04      -12.0\n",
       "2020-05-05     1071.0\n",
       "2020-05-06      179.0\n",
       "2020-05-07     1728.0\n",
       "2020-05-08     1124.0\n",
       "2020-05-09      354.0\n",
       "2020-05-10     3042.0\n",
       "2020-05-11     1266.0\n",
       "2020-05-12     1060.0\n",
       "2020-05-13     1078.0\n",
       "2020-05-14      874.0\n",
       "2020-05-15      972.0\n",
       "2020-05-16      484.0\n",
       "2020-05-17     1806.0\n",
       "2020-05-18     2789.0\n",
       "2020-05-19       42.0\n",
       "2020-05-20      511.0\n",
       "2020-05-21     2611.0\n",
       "2020-05-22     1419.0\n",
       "2020-05-23     1773.0\n",
       "2020-05-24     1627.0\n",
       "2020-05-25     1661.0\n",
       "2020-05-26     1509.0\n",
       "2020-05-27    31981.0\n",
       "2020-05-28   -26376.0\n",
       "2020-05-29      -98.0\n",
       "2020-05-30     1965.0\n",
       "2020-05-31      882.0\n",
       "2020-06-01     2894.0\n",
       "2020-06-02     1433.0\n",
       "2020-06-03     1579.0\n",
       "2020-06-04     1180.0\n",
       "2020-06-05     1960.0\n",
       "2020-06-06     1797.0\n",
       "2020-06-07     1366.0\n",
       "2020-06-08     2004.0\n",
       "2020-06-09     1133.0\n",
       "2020-06-10     1402.0\n",
       "2020-06-11     6877.0\n",
       "2020-06-12    -3724.0\n",
       "2020-06-13     1538.0\n",
       "2020-06-14     1652.0\n",
       "2020-06-15     1407.0\n",
       "2020-06-16      983.0\n",
       "2020-06-17     2380.0\n",
       "2020-06-18     1042.0\n",
       "2020-06-19     1994.0\n",
       "Name: positive, dtype: float64"
      ]
     },
     "execution_count": 21,
     "metadata": {
      "tags": []
     },
     "output_type": "execute_result"
    }
   ],
   "source": [
    "countries.xs('West Bengal').diff().dropna()"
   ]
  },
  {
   "cell_type": "code",
   "execution_count": 12,
   "metadata": {
    "colab": {},
    "colab_type": "code",
    "executionInfo": {
     "elapsed": 422,
     "status": "ok",
     "timestamp": 1593096873614,
     "user": {
      "displayName": "Sayan Samanta",
      "photoUrl": "https://lh3.googleusercontent.com/a-/AOh14GgOuT4BQxbOWcYTW_r0RQ02DqKvgrpoyxBKqxPAUi8=s64",
      "userId": "03850430243742702686"
     },
     "user_tz": 240
    },
    "id": "dTBsBJwW9gF7"
   },
   "outputs": [],
   "source": [
    "country_name = 'West Bengal'\n",
    "cases = countries.xs(country_name).rename(f\"{country_name} cases\")\n",
    "original, smoothed = prepare_cases_ksys(cases)"
   ]
  },
  {
   "cell_type": "code",
   "execution_count": 13,
   "metadata": {
    "colab": {
     "base_uri": "https://localhost:8080/",
     "height": 990
    },
    "colab_type": "code",
    "executionInfo": {
     "elapsed": 425,
     "status": "ok",
     "timestamp": 1593096881697,
     "user": {
      "displayName": "Sayan Samanta",
      "photoUrl": "https://lh3.googleusercontent.com/a-/AOh14GgOuT4BQxbOWcYTW_r0RQ02DqKvgrpoyxBKqxPAUi8=s64",
      "userId": "03850430243742702686"
     },
     "user_tz": 240
    },
    "id": "snBeH89a-Tcf",
    "outputId": "2366d76e-23a6-4454-b44b-93ead8250ea3"
   },
   "outputs": [
    {
     "data": {
      "text/plain": [
       "date\n",
       "2020-04-27     559.0\n",
       "2020-04-28     653.0\n",
       "2020-04-29     652.0\n",
       "2020-04-30     740.0\n",
       "2020-05-01     748.0\n",
       "2020-05-02     769.0\n",
       "2020-05-03     739.0\n",
       "2020-05-04     750.0\n",
       "2020-05-05     769.0\n",
       "2020-05-06     847.0\n",
       "2020-05-07    1021.0\n",
       "2020-05-08    1226.0\n",
       "2020-05-09    1350.0\n",
       "2020-05-10    1449.0\n",
       "2020-05-11    1384.0\n",
       "2020-05-12    1282.0\n",
       "2020-05-13    1143.0\n",
       "2020-05-14     998.0\n",
       "2020-05-15    1117.0\n",
       "2020-05-16    1193.0\n",
       "2020-05-17    1245.0\n",
       "2020-05-18    1337.0\n",
       "2020-05-19    1351.0\n",
       "2020-05-20    1419.0\n",
       "2020-05-21    1480.0\n",
       "2020-05-22    1542.0\n",
       "2020-05-23    1666.0\n",
       "2020-05-24    3817.0\n",
       "2020-05-25    3630.0\n",
       "2020-05-26    3616.0\n",
       "2020-05-27    2626.0\n",
       "2020-05-28    1014.0\n",
       "2020-05-29     -60.0\n",
       "2020-05-30    -159.0\n",
       "2020-05-31    -447.0\n",
       "2020-06-01    1607.0\n",
       "2020-06-02    1708.0\n",
       "2020-06-03    1664.0\n",
       "2020-06-04    1652.0\n",
       "2020-06-05    1618.0\n",
       "2020-06-06    1630.0\n",
       "2020-06-07    1607.0\n",
       "2020-06-08    1949.0\n",
       "2020-06-09    1840.0\n",
       "2020-06-10    1809.0\n",
       "2020-06-11    1650.0\n",
       "2020-06-12    1379.0\n",
       "2020-06-13    1190.0\n",
       "2020-06-14    1209.0\n",
       "2020-06-15    1132.0\n",
       "2020-06-16    1536.0\n",
       "2020-06-17    1573.0\n",
       "2020-06-18    1611.0\n",
       "2020-06-19    1662.0\n",
       "Name: West Bengal cases, dtype: float64"
      ]
     },
     "execution_count": 13,
     "metadata": {
      "tags": []
     },
     "output_type": "execute_result"
    }
   ],
   "source": [
    "smoothed"
   ]
  },
  {
   "cell_type": "code",
   "execution_count": 4,
   "metadata": {
    "colab": {},
    "colab_type": "code",
    "executionInfo": {
     "elapsed": 359,
     "status": "ok",
     "timestamp": 1593096387001,
     "user": {
      "displayName": "Sayan Samanta",
      "photoUrl": "https://lh3.googleusercontent.com/a-/AOh14GgOuT4BQxbOWcYTW_r0RQ02DqKvgrpoyxBKqxPAUi8=s64",
      "userId": "03850430243742702686"
     },
     "user_tz": 240
    },
    "id": "Ir-i2rmz8a1K"
   },
   "outputs": [],
   "source": [
    "def prepare_cases_ksys(cases, cutoff=25):\n",
    "    new_cases = cases.diff()\n",
    "\n",
    "    smoothed = new_cases.rolling(7,\n",
    "        win_type='gaussian',\n",
    "        min_periods=1,\n",
    "        center=True).mean(std=2).round()\n",
    "    \n",
    "    idx_start = np.searchsorted(smoothed, cutoff)\n",
    "    \n",
    "    smoothed = smoothed.iloc[idx_start:]\n",
    "    original = new_cases.loc[smoothed.index]\n",
    "    \n",
    "    return original, smoothed"
   ]
  },
  {
   "cell_type": "code",
   "execution_count": 1,
   "metadata": {
    "colab": {},
    "colab_type": "code",
    "executionInfo": {
     "elapsed": 614,
     "status": "ok",
     "timestamp": 1593096216077,
     "user": {
      "displayName": "Sayan Samanta",
      "photoUrl": "https://lh3.googleusercontent.com/a-/AOh14GgOuT4BQxbOWcYTW_r0RQ02DqKvgrpoyxBKqxPAUi8=s64",
      "userId": "03850430243742702686"
     },
     "user_tz": 240
    },
    "id": "yjWPq9mQX7rp"
   },
   "outputs": [],
   "source": [
    "class MCMCModel(object):\n",
    "    \n",
    "    def __init__(self, region, onset, cumulative_p_delay, window=50):\n",
    "        \n",
    "        # Just for identification purposes\n",
    "        self.region = region\n",
    "        \n",
    "        # For the model, we'll only look at the last N\n",
    "        self.onset = onset.iloc[-window:]\n",
    "        self.cumulative_p_delay = cumulative_p_delay[-window:]\n",
    "        \n",
    "        # Where we store the results\n",
    "        self.trace = None\n",
    "        self.trace_index = self.onset.index[1:]\n",
    "\n",
    "    def run(self, chains=1, tune=3000, draws=1000, target_accept=.95):\n",
    "\n",
    "        with pm.Model() as model:\n",
    "\n",
    "            # Random walk magnitude\n",
    "            step_size = pm.HalfNormal('step_size', sigma=.03)\n",
    "\n",
    "            # Theta random walk\n",
    "            theta_raw_init = pm.Normal('theta_raw_init', 0.1, 0.1)\n",
    "            theta_raw_steps = pm.Normal('theta_raw_steps', shape=len(self.onset)-2) * step_size\n",
    "            theta_raw = tt.concatenate([[theta_raw_init], theta_raw_steps])\n",
    "            theta = pm.Deterministic('theta', theta_raw.cumsum())\n",
    "\n",
    "            # Let the serial interval be a random variable and calculate r_t\n",
    "            serial_interval = pm.Gamma('serial_interval', alpha=6, beta=1.5)\n",
    "            gamma = 1.0 / serial_interval\n",
    "            r_t = pm.Deterministic('r_t', theta/gamma + 1)\n",
    "\n",
    "            inferred_yesterday = self.onset.values[:-1] / self.cumulative_p_delay[:-1]\n",
    "            \n",
    "            expected_today = inferred_yesterday * self.cumulative_p_delay[1:] * pm.math.exp(theta)\n",
    "\n",
    "            # Ensure cases stay above zero for poisson\n",
    "            mu = pm.math.maximum(.1, expected_today)\n",
    "            observed = self.onset.round().values[1:]\n",
    "            cases = pm.Poisson('cases', mu=mu, observed=observed)\n",
    "\n",
    "            self.trace = pm.sample(\n",
    "                chains=chains,\n",
    "                tune=tune,\n",
    "                draws=draws,\n",
    "                target_accept=target_accept)\n",
    "            \n",
    "            return self\n",
    "    \n",
    "    def run_gp(self):\n",
    "        with pm.Model() as model:\n",
    "            gp_shape = len(self.onset) - 1\n",
    "\n",
    "            length_scale = pm.Gamma(\"length_scale\", alpha=3, beta=.4)\n",
    "\n",
    "            eta = .05\n",
    "            cov_func = eta**2 * pm.gp.cov.ExpQuad(1, length_scale)\n",
    "\n",
    "            gp = pm.gp.Latent(mean_func=pm.gp.mean.Constant(c=0), \n",
    "                              cov_func=cov_func)\n",
    "\n",
    "            # Place a GP prior over the function f.\n",
    "            theta = gp.prior(\"theta\", X=np.arange(gp_shape)[:, None])\n",
    "\n",
    "            # Let the serial interval be a random variable and calculate r_t\n",
    "            serial_interval = pm.Gamma('serial_interval', alpha=6, beta=1.5)\n",
    "            gamma = 1.0 / serial_interval\n",
    "            r_t = pm.Deterministic('r_t', theta / gamma + 1)\n",
    "\n",
    "            inferred_yesterday = self.onset.values[:-1] / self.cumulative_p_delay[:-1]\n",
    "            expected_today = inferred_yesterday * self.cumulative_p_delay[1:] * pm.math.exp(theta)\n",
    "\n",
    "            # Ensure cases stay above zero for poisson\n",
    "            mu = pm.math.maximum(.1, expected_today)\n",
    "            observed = self.onset.round().values[1:]\n",
    "            cases = pm.Poisson('cases', mu=mu, observed=observed)\n",
    "\n",
    "            self.trace = pm.sample(chains=1, tune=1000, draws=1000, target_accept=.8)\n",
    "        return self"
   ]
  },
  {
   "cell_type": "code",
   "execution_count": 2,
   "metadata": {
    "colab": {},
    "colab_type": "code",
    "executionInfo": {
     "elapsed": 587,
     "status": "ok",
     "timestamp": 1593096250643,
     "user": {
      "displayName": "Sayan Samanta",
      "photoUrl": "https://lh3.googleusercontent.com/a-/AOh14GgOuT4BQxbOWcYTW_r0RQ02DqKvgrpoyxBKqxPAUi8=s64",
      "userId": "03850430243742702686"
     },
     "user_tz": 240
    },
    "id": "d_UuVBlZX-dY"
   },
   "outputs": [],
   "source": [
    "def df_from_model(model):\n",
    "    \n",
    "    r_t = model.trace['r_t']\n",
    "    mean = np.mean(r_t, axis=0)\n",
    "    median = np.median(r_t, axis=0)\n",
    "    hpd_90 = pm.stats.hpd(r_t, credible_interval=.9)\n",
    "    hpd_50 = pm.stats.hpd(r_t, credible_interval=.5)\n",
    "    \n",
    "    idx = pd.MultiIndex.from_product([\n",
    "            [model.region],\n",
    "            model.trace_index\n",
    "        ], names=['region', 'date'])\n",
    "        \n",
    "    df = pd.DataFrame(data=np.c_[mean, median, hpd_90, hpd_50], index=idx,\n",
    "                 columns=['mean', 'median', 'lower_90', 'upper_90', 'lower_50','upper_50'])\n",
    "    return df"
   ]
  },
  {
   "cell_type": "code",
   "execution_count": null,
   "metadata": {
    "colab": {},
    "colab_type": "code",
    "id": "HAFUbK6k7_Uw"
   },
   "outputs": [],
   "source": [
    "def create_and_run_model(name, state):\n",
    "    confirmed = state.positive.diff().dropna()\n",
    "    onset = confirmed_to_onset(confirmed, p_delay)\n",
    "    adjusted, cumulative_p_delay = adjust_onset_for_right_censorship(onset, p_delay)\n",
    "    return MCMCModel(name, onset, cumulative_p_delay).run()"
   ]
  },
  {
   "cell_type": "code",
   "execution_count": null,
   "metadata": {
    "colab": {
     "base_uri": "https://localhost:8080/",
     "height": 52
    },
    "colab_type": "code",
    "executionInfo": {
     "elapsed": 761,
     "status": "ok",
     "timestamp": 1593053320845,
     "user": {
      "displayName": "Sayan Samanta",
      "photoUrl": "https://lh3.googleusercontent.com/a-/AOh14GgOuT4BQxbOWcYTW_r0RQ02DqKvgrpoyxBKqxPAUi8=s64",
      "userId": "03850430243742702686"
     },
     "user_tz": 240
    },
    "id": "EYZZaa3_YBhM",
    "outputId": "cf3b9132-8546-48ab-80a8-98f663db082c"
   },
   "outputs": [
    {
     "name": "stdout",
     "output_type": "stream",
     "text": [
      "Downloading file, this will take a while ~100mb\n",
      "Something went wrong. Try again.\n"
     ]
    }
   ],
   "source": [
    "models = {}\n",
    "\n",
    "for state, grp in states.groupby('state'):\n",
    "    \n",
    "    print(state)\n",
    "    \n",
    "    if state in models:\n",
    "        print(f'Skipping {state}, already in cache')\n",
    "        continue\n",
    "    \n",
    "    models[state] = create_and_run_model(grp.droplevel(0))"
   ]
  },
  {
   "cell_type": "code",
   "execution_count": null,
   "metadata": {
    "colab": {},
    "colab_type": "code",
    "id": "cjH-1rjEYHdl"
   },
   "outputs": [],
   "source": [
    "# Check to see if there were divergences\n",
    "n_diverging = lambda x: x.trace['diverging'].nonzero()[0].size\n",
    "divergences = pd.Series([n_diverging(m) for m in models.values()], index=models.keys())\n",
    "has_divergences = divergences.gt(0)\n",
    "\n",
    "print('Diverging states:')\n",
    "display(divergences[has_divergences])\n",
    "\n",
    "# Rerun states with divergences\n",
    "for state, n_divergences in divergences[has_divergences].items():\n",
    "    models[state].run()"
   ]
  },
  {
   "cell_type": "code",
   "execution_count": null,
   "metadata": {
    "colab": {},
    "colab_type": "code",
    "id": "gSjZdw-s8Mer"
   },
   "outputs": [],
   "source": [
    "results = None\n",
    "\n",
    "for state, model in models.items():\n",
    "\n",
    "    df = df_from_model(model)\n",
    "\n",
    "    if results is None:\n",
    "        results = df\n",
    "    else:\n",
    "        results = pd.concat([results, df], axis=0)"
   ]
  },
  {
   "cell_type": "code",
   "execution_count": 3,
   "metadata": {
    "colab": {},
    "colab_type": "code",
    "executionInfo": {
     "elapsed": 441,
     "status": "ok",
     "timestamp": 1593096348186,
     "user": {
      "displayName": "Sayan Samanta",
      "photoUrl": "https://lh3.googleusercontent.com/a-/AOh14GgOuT4BQxbOWcYTW_r0RQ02DqKvgrpoyxBKqxPAUi8=s64",
      "userId": "03850430243742702686"
     },
     "user_tz": 240
    },
    "id": "M2RBFzM78Olc"
   },
   "outputs": [],
   "source": [
    "def plot_rt(name, result, ax, c=(.3,.3,.3,1), ci=(0,0,0,.05)):\n",
    "    ax.set_ylim(0.5, 1.6)\n",
    "    ax.set_title(name)\n",
    "    ax.plot(result['median'],\n",
    "            marker='o',\n",
    "            markersize=4,\n",
    "            markerfacecolor='w',\n",
    "            lw=1,\n",
    "            c=c,\n",
    "            markevery=2)\n",
    "    ax.fill_between(\n",
    "        result.index,\n",
    "        result['lower_90'].values,\n",
    "        result['upper_90'].values,\n",
    "        color=ci,\n",
    "        lw=0)\n",
    "    ax.axhline(1.0, linestyle=':', lw=1)\n",
    "    \n",
    "    ax.xaxis.set_major_formatter(mdates.DateFormatter('%m/%d'))\n",
    "    ax.xaxis.set_major_locator(mdates.WeekdayLocator(interval=2))"
   ]
  },
  {
   "cell_type": "code",
   "execution_count": null,
   "metadata": {
    "colab": {},
    "colab_type": "code",
    "id": "gtaxarZN8R-Q"
   },
   "outputs": [],
   "source": [
    "ncols = 4\n",
    "nrows = int(np.ceil(results.index.levels[0].shape[0] / ncols))\n",
    "\n",
    "fig, axes = plt.subplots(\n",
    "    nrows=nrows,\n",
    "    ncols=ncols,\n",
    "    figsize=(14, nrows*3),\n",
    "    sharey='row')\n",
    "\n",
    "for ax, (state, result) in zip(axes.flat, results.groupby('region')):\n",
    "    plot_rt(state, result.droplevel(0), ax)\n",
    "\n",
    "fig.tight_layout()\n",
    "fig.set_facecolor('w')"
   ]
  }
 ],
 "metadata": {
  "colab": {
   "authorship_tag": "ABX9TyOVNUmriTJts316bgkgDKoW",
   "name": "COVID India MCMC.ipynb",
   "provenance": []
  },
  "kernelspec": {
   "display_name": "Python 3",
   "language": "python",
   "name": "python3"
  },
  "language_info": {
   "codemirror_mode": {
    "name": "ipython",
    "version": 3
   },
   "file_extension": ".py",
   "mimetype": "text/x-python",
   "name": "python",
   "nbconvert_exporter": "python",
   "pygments_lexer": "ipython3",
   "version": "3.8.2"
  }
 },
 "nbformat": 4,
 "nbformat_minor": 1
}
