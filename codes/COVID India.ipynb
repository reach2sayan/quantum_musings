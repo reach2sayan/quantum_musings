{
 "cells": [
  {
   "cell_type": "code",
   "execution_count": 2,
   "metadata": {
    "colab": {
     "base_uri": "https://localhost:8080/",
     "height": 34
    },
    "colab_type": "code",
    "executionInfo": {
     "elapsed": 5450,
     "status": "ok",
     "timestamp": 1592934872498,
     "user": {
      "displayName": "Sayan Samanta",
      "photoUrl": "https://lh3.googleusercontent.com/a-/AOh14GgOuT4BQxbOWcYTW_r0RQ02DqKvgrpoyxBKqxPAUi8=s64",
      "userId": "03850430243742702686"
     },
     "user_tz": 240
    },
    "id": "WdZAZJ3e9Hvi",
    "outputId": "5e452aad-d55c-4f34-b391-627bf19705fc"
   },
   "outputs": [
    {
     "name": "stdout",
     "output_type": "stream",
     "text": [
      "fatal: destination path 'COVID-19' already exists and is not an empty directory.\r\n"
     ]
    }
   ],
   "source": [
    "!git clone https://github.com/CSSEGISandData/COVID-19.git\n",
    "!pip3 install -q arviz"
   ]
  },
  {
   "cell_type": "code",
   "execution_count": 3,
   "metadata": {
    "colab": {},
    "colab_type": "code",
    "executionInfo": {
     "elapsed": 2341,
     "status": "ok",
     "timestamp": 1592934875000,
     "user": {
      "displayName": "Sayan Samanta",
      "photoUrl": "https://lh3.googleusercontent.com/a-/AOh14GgOuT4BQxbOWcYTW_r0RQ02DqKvgrpoyxBKqxPAUi8=s64",
      "userId": "03850430243742702686"
     },
     "user_tz": 240
    },
    "id": "wb9eAkQ-D-Ai"
   },
   "outputs": [],
   "source": [
    "import numpy as np\n",
    "import pandas as pd\n",
    "import datetime\n",
    "import arviz\n",
    "import tqdm.notebook as tqdm"
   ]
  },
  {
   "cell_type": "code",
   "execution_count": null,
   "metadata": {
    "colab": {},
    "colab_type": "code",
    "id": "rPMY7iD09LgF"
   },
   "outputs": [],
   "source": [
    "df = pd.read_csv(\"COVID-19/csse_covid_19_data/csse_covid_19_daily_reports/04-01-2020.csv\")"
   ]
  },
  {
   "cell_type": "code",
   "execution_count": null,
   "metadata": {
    "colab": {},
    "colab_type": "code",
    "id": "OwNVBrMe9iY3"
   },
   "outputs": [],
   "source": [
    "def csv_filename(date):\n",
    "    basedir = \"COVID-19/csse_covid_19_data/csse_covid_19_daily_reports/\"\n",
    "    return basedir + date.strftime(\"%m-%d-%Y\") + \".csv\"\n",
    "\n",
    "def get_dataframe(date): \n",
    "    df = pd.read_csv(csv_filename(date))\n",
    "    df.insert(0, \"Date\", date.strftime(\"%Y-%m-%d\"))\n",
    "    df.columns = df.columns.str.replace(\"/\", \"_\")\n",
    "    df.Country_Region = df.Country_Region.str.replace(\"Mainland China\", \"China\")\n",
    "    return df"
   ]
  },
  {
   "cell_type": "code",
   "execution_count": null,
   "metadata": {
    "colab": {},
    "colab_type": "code",
    "id": "UrlLRBhw92nL"
   },
   "outputs": [],
   "source": [
    "yesterday = datetime.datetime.today().date() - datetime.timedelta(days=2)\n",
    "date_range = pd.date_range(datetime.date(2020, 1, 23), yesterday)\n",
    "data_frames = [get_dataframe(date) for date in date_range]\n",
    "\n",
    "df = pd.concat(data_frames).reset_index(drop = True)"
   ]
  },
  {
   "cell_type": "code",
   "execution_count": 9,
   "metadata": {
    "colab": {
     "base_uri": "https://localhost:8080/",
     "height": 69
    },
    "colab_type": "code",
    "executionInfo": {
     "elapsed": 1301,
     "status": "ok",
     "timestamp": 1592941326746,
     "user": {
      "displayName": "Sayan Samanta",
      "photoUrl": "https://lh3.googleusercontent.com/a-/AOh14GgOuT4BQxbOWcYTW_r0RQ02DqKvgrpoyxBKqxPAUi8=s64",
      "userId": "03850430243742702686"
     },
     "user_tz": 240
    },
    "id": "giucYOS3wyGn",
    "outputId": "48b1e93b-1e78-4a0a-bd8f-bfbfce16a854"
   },
   "outputs": [
    {
     "name": "stdout",
     "output_type": "stream",
     "text": [
      "Reading: https://api.covid19india.org/csv/latest/raw_data13.csv\n"
     ]
    }
   ],
   "source": [
    "def get_dataframe_india(url):\n",
    "    print(\"Reading: \"+url)\n",
    "    df = pd.read_csv(url,usecols=['Patient Number', 'Date Announced', 'Detected State'])\n",
    "    return df\n",
    "\n",
    "urls = [\"https://api.covid19india.org/csv/latest/raw_data\"+str(i)+\".csv\" for i in range(13,14)]\n",
    "data_frames = [get_dataframe_india(url) for url in urls]\n",
    "\n",
    "df = pd.concat(data_frames).reset_index(drop = True)\n",
    "df['Date Announced'] = pd.to_datetime(df['Date Announced'], format=\"%d/%m/%Y\")\n",
    "df.to_csv(\"today_data.csv\",index=False)"
   ]
  },
  {
   "cell_type": "code",
   "execution_count": 11,
   "metadata": {},
   "outputs": [
    {
     "data": {
      "text/html": [
       "<div>\n",
       "<style scoped>\n",
       "    .dataframe tbody tr th:only-of-type {\n",
       "        vertical-align: middle;\n",
       "    }\n",
       "\n",
       "    .dataframe tbody tr th {\n",
       "        vertical-align: top;\n",
       "    }\n",
       "\n",
       "    .dataframe thead th {\n",
       "        text-align: right;\n",
       "    }\n",
       "</style>\n",
       "<table border=\"1\" class=\"dataframe\">\n",
       "  <thead>\n",
       "    <tr style=\"text-align: right;\">\n",
       "      <th></th>\n",
       "      <th>Date Announced</th>\n",
       "      <th>Detected State</th>\n",
       "      <th>Patient Number</th>\n",
       "    </tr>\n",
       "  </thead>\n",
       "  <tbody>\n",
       "    <tr>\n",
       "      <th>0</th>\n",
       "      <td>2020-08-07</td>\n",
       "      <td>Mizoram</td>\n",
       "      <td>NaN</td>\n",
       "    </tr>\n",
       "    <tr>\n",
       "      <th>1</th>\n",
       "      <td>2020-08-07</td>\n",
       "      <td>Telangana</td>\n",
       "      <td>NaN</td>\n",
       "    </tr>\n",
       "    <tr>\n",
       "      <th>2</th>\n",
       "      <td>2020-08-07</td>\n",
       "      <td>Telangana</td>\n",
       "      <td>NaN</td>\n",
       "    </tr>\n",
       "    <tr>\n",
       "      <th>3</th>\n",
       "      <td>2020-08-07</td>\n",
       "      <td>Telangana</td>\n",
       "      <td>NaN</td>\n",
       "    </tr>\n",
       "    <tr>\n",
       "      <th>4</th>\n",
       "      <td>2020-08-07</td>\n",
       "      <td>Telangana</td>\n",
       "      <td>NaN</td>\n",
       "    </tr>\n",
       "    <tr>\n",
       "      <th>...</th>\n",
       "      <td>...</td>\n",
       "      <td>...</td>\n",
       "      <td>...</td>\n",
       "    </tr>\n",
       "    <tr>\n",
       "      <th>19222</th>\n",
       "      <td>2020-08-18</td>\n",
       "      <td>NaN</td>\n",
       "      <td>NaN</td>\n",
       "    </tr>\n",
       "    <tr>\n",
       "      <th>19223</th>\n",
       "      <td>2020-08-18</td>\n",
       "      <td>NaN</td>\n",
       "      <td>NaN</td>\n",
       "    </tr>\n",
       "    <tr>\n",
       "      <th>19224</th>\n",
       "      <td>2020-08-18</td>\n",
       "      <td>NaN</td>\n",
       "      <td>NaN</td>\n",
       "    </tr>\n",
       "    <tr>\n",
       "      <th>19225</th>\n",
       "      <td>2020-08-18</td>\n",
       "      <td>NaN</td>\n",
       "      <td>NaN</td>\n",
       "    </tr>\n",
       "    <tr>\n",
       "      <th>19226</th>\n",
       "      <td>2020-08-18</td>\n",
       "      <td>NaN</td>\n",
       "      <td>NaN</td>\n",
       "    </tr>\n",
       "  </tbody>\n",
       "</table>\n",
       "<p>19227 rows × 3 columns</p>\n",
       "</div>"
      ],
      "text/plain": [
       "      Date Announced Detected State  Patient Number\n",
       "0         2020-08-07        Mizoram             NaN\n",
       "1         2020-08-07      Telangana             NaN\n",
       "2         2020-08-07      Telangana             NaN\n",
       "3         2020-08-07      Telangana             NaN\n",
       "4         2020-08-07      Telangana             NaN\n",
       "...              ...            ...             ...\n",
       "19222     2020-08-18            NaN             NaN\n",
       "19223     2020-08-18            NaN             NaN\n",
       "19224     2020-08-18            NaN             NaN\n",
       "19225     2020-08-18            NaN             NaN\n",
       "19226     2020-08-18            NaN             NaN\n",
       "\n",
       "[19227 rows x 3 columns]"
      ]
     },
     "execution_count": 11,
     "metadata": {},
     "output_type": "execute_result"
    }
   ],
   "source": [
    "df"
   ]
  },
  {
   "cell_type": "code",
   "execution_count": null,
   "metadata": {
    "colab": {},
    "colab_type": "code",
    "executionInfo": {
     "elapsed": 796,
     "status": "ok",
     "timestamp": 1592941345705,
     "user": {
      "displayName": "Sayan Samanta",
      "photoUrl": "https://lh3.googleusercontent.com/a-/AOh14GgOuT4BQxbOWcYTW_r0RQ02DqKvgrpoyxBKqxPAUi8=s64",
      "userId": "03850430243742702686"
     },
     "user_tz": 240
    },
    "id": "vlxdUmhO-jXx"
   },
   "outputs": [],
   "source": [
    "dateparse = lambda x: datetime.datetime.strptime(x, '%d/%m/%Y')\n",
    "\n",
    "states = pd.read_csv(\"today_data.csv\",\n",
    "                     #parse_dates=['Date Announced'], date_parser=dateparse,#infer_datetime_format=True,\n",
    "                     index_col=['Detected State', 'Date Announced'],squeeze=True).sort_index()"
   ]
  },
  {
   "cell_type": "code",
   "execution_count": null,
   "metadata": {
    "colab": {},
    "colab_type": "code",
    "executionInfo": {
     "elapsed": 527,
     "status": "ok",
     "timestamp": 1592941347134,
     "user": {
      "displayName": "Sayan Samanta",
      "photoUrl": "https://lh3.googleusercontent.com/a-/AOh14GgOuT4BQxbOWcYTW_r0RQ02DqKvgrpoyxBKqxPAUi8=s64",
      "userId": "03850430243742702686"
     },
     "user_tz": 240
    },
    "id": "qtm2JQXWXNuf"
   },
   "outputs": [],
   "source": [
    "states = states[~states.index.duplicated(keep='last')]"
   ]
  },
  {
   "cell_type": "code",
   "execution_count": 13,
   "metadata": {
    "colab": {},
    "colab_type": "code",
    "executionInfo": {
     "elapsed": 1713,
     "status": "ok",
     "timestamp": 1592940721671,
     "user": {
      "displayName": "Sayan Samanta",
      "photoUrl": "https://lh3.googleusercontent.com/a-/AOh14GgOuT4BQxbOWcYTW_r0RQ02DqKvgrpoyxBKqxPAUi8=s64",
      "userId": "03850430243742702686"
     },
     "user_tz": 240
    },
    "id": "C_TDSEloAGl0"
   },
   "outputs": [],
   "source": [
    "url_us = 'https://covidtracking.com/api/v1/states/daily.csv'\n",
    "states = pd.read_csv(url_us,\n",
    "                     usecols=['date', 'state', 'positive'],\n",
    "                     parse_dates=['date'],\n",
    "                     index_col=['state', 'date'],\n",
    "                     squeeze=True).sort_index()"
   ]
  },
  {
   "cell_type": "code",
   "execution_count": 18,
   "metadata": {
    "colab": {
     "base_uri": "https://localhost:8080/",
     "height": 243
    },
    "colab_type": "code",
    "executionInfo": {
     "elapsed": 3298,
     "status": "ok",
     "timestamp": 1592941100102,
     "user": {
      "displayName": "Sayan Samanta",
      "photoUrl": "https://lh3.googleusercontent.com/a-/AOh14GgOuT4BQxbOWcYTW_r0RQ02DqKvgrpoyxBKqxPAUi8=s64",
      "userId": "03850430243742702686"
     },
     "user_tz": 240
    },
    "id": "_Qse0xJDda4T",
    "outputId": "8c3d6c58-5982-40f1-bccc-55e3ecd78b16"
   },
   "outputs": [
    {
     "data": {
      "text/plain": [
       "state  date      \n",
       "AK     2020-03-06       0.0\n",
       "       2020-03-07       0.0\n",
       "       2020-03-08       0.0\n",
       "       2020-03-09       0.0\n",
       "       2020-03-10       0.0\n",
       "                      ...  \n",
       "WY     2020-08-13    3119.0\n",
       "       2020-08-14    3183.0\n",
       "       2020-08-15    3227.0\n",
       "       2020-08-16    3286.0\n",
       "       2020-08-17    3331.0\n",
       "Name: positive, Length: 9281, dtype: float64"
      ]
     },
     "execution_count": 18,
     "metadata": {},
     "output_type": "execute_result"
    }
   ],
   "source": [
    "states"
   ]
  },
  {
   "cell_type": "code",
   "execution_count": null,
   "metadata": {
    "colab": {
     "base_uri": "https://localhost:8080/",
     "height": 302
    },
    "colab_type": "code",
    "executionInfo": {
     "elapsed": 925,
     "status": "ok",
     "timestamp": 1592941104777,
     "user": {
      "displayName": "Sayan Samanta",
      "photoUrl": "https://lh3.googleusercontent.com/a-/AOh14GgOuT4BQxbOWcYTW_r0RQ02DqKvgrpoyxBKqxPAUi8=s64",
      "userId": "03850430243742702686"
     },
     "user_tz": 240
    },
    "id": "gdHegEFBduvz",
    "outputId": "bca74dcb-ed0f-40ca-ffa2-a50f1a7f704b"
   },
   "outputs": [],
   "source": [
    "states.xs('West Bengal').plot()"
   ]
  },
  {
   "cell_type": "markdown",
   "metadata": {
    "colab_type": "text",
    "id": "I_YOhm5Seifa"
   },
   "source": [
    "## By Sam"
   ]
  },
  {
   "cell_type": "code",
   "execution_count": 14,
   "metadata": {
    "colab": {},
    "colab_type": "code",
    "executionInfo": {
     "elapsed": 349,
     "status": "ok",
     "timestamp": 1592930780304,
     "user": {
      "displayName": "Sayan Samanta",
      "photoUrl": "https://lh3.googleusercontent.com/a-/AOh14GgOuT4BQxbOWcYTW_r0RQ02DqKvgrpoyxBKqxPAUi8=s64",
      "userId": "03850430243742702686"
     },
     "user_tz": 240
    },
    "id": "ff1HWHs3AdUR"
   },
   "outputs": [],
   "source": [
    "def Rt(states: pd.DataFrame, \n",
    "       state: str, \n",
    "       γ = 0.2, \n",
    "       Δt = 1):\n",
    "    total_cases = states[state]\n",
    "    good_data = total_cases.where(lambda x: x > 100).dropna()\n",
    "    diff = good_data.diff()\n",
    "    return 1 + 1 / (γ * Δt) * np.log(((diff.shift(1) / diff)))"
   ]
  },
  {
   "cell_type": "code",
   "execution_count": 16,
   "metadata": {
    "colab": {},
    "colab_type": "code",
    "executionInfo": {
     "elapsed": 2494,
     "status": "ok",
     "timestamp": 1592930787916,
     "user": {
      "displayName": "Sayan Samanta",
      "photoUrl": "https://lh3.googleusercontent.com/a-/AOh14GgOuT4BQxbOWcYTW_r0RQ02DqKvgrpoyxBKqxPAUi8=s64",
      "userId": "03850430243742702686"
     },
     "user_tz": 240
    },
    "id": "hC1GKwqbD8BB"
   },
   "outputs": [
    {
     "name": "stderr",
     "output_type": "stream",
     "text": [
      "WARNING (theano.tensor.blas): Using NumPy C-API based implementation for BLAS functions.\n"
     ]
    }
   ],
   "source": [
    "import pymc3 as pm\n",
    "import theano.tensor as tt\n",
    "from types import SimpleNamespace"
   ]
  },
  {
   "cell_type": "code",
   "execution_count": 17,
   "metadata": {
    "colab": {},
    "colab_type": "code",
    "executionInfo": {
     "elapsed": 539,
     "status": "ok",
     "timestamp": 1592930790747,
     "user": {
      "displayName": "Sayan Samanta",
      "photoUrl": "https://lh3.googleusercontent.com/a-/AOh14GgOuT4BQxbOWcYTW_r0RQ02DqKvgrpoyxBKqxPAUi8=s64",
      "userId": "03850430243742702686"
     },
     "user_tz": 240
    },
    "id": "FhvukD3rFTIn"
   },
   "outputs": [],
   "source": [
    "def run_model(state):\n",
    "    \n",
    "    with pm.Model() as model:\n",
    "        \n",
    "        result = SimpleNamespace()\n",
    "        \n",
    "        cases = states.loc[state]\n",
    "        result.state = state\n",
    "        result.index = cases.index[1:]\n",
    "\n",
    "        # Random walk magnitude\n",
    "        step_size = pm.HalfNormal('step_size', sigma = 0.03)\n",
    "\n",
    "        # Theta random walk\n",
    "        theta_raw_init = pm.Normal('theta_raw_init', 0.1, 0.1)\n",
    "        theta_raw_steps = pm.Normal('theta_raw_steps', shape=len(cases)-2) * step_size\n",
    "        theta_raw = tt.concatenate([[theta_raw_init], theta_raw_steps])\n",
    "        theta = pm.Deterministic('theta', theta_raw.cumsum())\n",
    "\n",
    "        inv_gamma = pm.Gamma('inv_gamma', alpha=6, beta=1.5)\n",
    "        gamma = 1.0 / inv_gamma\n",
    "        r_t = pm.Deterministic('r_t', theta/gamma + 1)\n",
    "\n",
    "        expected_today = pm.Deterministic('expected_today', pm.math.exp(theta.cumsum()))\n",
    "\n",
    "        mu = pm.math.maximum(0.1, expected_today) # make sure cases stay positive\n",
    "        observed = cases.round().values[1:]\n",
    "        cases = pm.Poisson('cases', mu=mu, observed=observed)\n",
    "\n",
    "        result.trace = pm.sample(\n",
    "            chains = 1,\n",
    "            tune = 3000,\n",
    "            draws = 1000,\n",
    "            target_accept = 0.95\n",
    "        )\n",
    "    \n",
    "    return result"
   ]
  },
  {
   "cell_type": "code",
   "execution_count": null,
   "metadata": {
    "colab": {},
    "colab_type": "code",
    "executionInfo": {
     "elapsed": 314,
     "status": "ok",
     "timestamp": 1592930795406,
     "user": {
      "displayName": "Sayan Samanta",
      "photoUrl": "https://lh3.googleusercontent.com/a-/AOh14GgOuT4BQxbOWcYTW_r0RQ02DqKvgrpoyxBKqxPAUi8=s64",
      "userId": "03850430243742702686"
     },
     "user_tz": 240
    },
    "id": "6KK3tz25FpeT"
   },
   "outputs": [],
   "source": [
    "from matplotlib import dates as mdates\n",
    "import arviz as az\n",
    "\n",
    "def df_from_result(result):\n",
    "    \n",
    "    r_t = result.trace['r_t']\n",
    "    mean = np.mean(r_t, axis = 0)\n",
    "    hdi90 = az.hdi(result.trace['r_t'], hdi_prob = 0.9)\n",
    "    hdi50 = az.hdi(result.trace['r_t'], hdi_prob = 0.5)\n",
    "    \n",
    "    idx = pd.MultiIndex.from_product([\n",
    "            [result.state],\n",
    "            result.index\n",
    "        ], names=['region', 'date'])\n",
    "        \n",
    "    df = pd.DataFrame(data=np.c_[mean, hdi90, hdi50], index=idx,\n",
    "                      columns=['mean', 'lower_90', 'upper_90', 'lower_50','upper_50'])\n",
    "    return df\n",
    "\n",
    "def plot_rt(df, ax=None, c=(.3,.3,.3,1), ci=(0,0,0,.05)):\n",
    "    if ax is None:\n",
    "        fig, ax = plt.subplots()\n",
    "    ax.set_ylim(0.5, 1.6)\n",
    "    ax.set_title(df.index.get_level_values(0)[0])\n",
    "    df = df.droplevel(0)\n",
    "    ax.plot(df['mean'],\n",
    "            marker='o',\n",
    "            markersize=4,\n",
    "            markerfacecolor='w',\n",
    "            lw=1,\n",
    "            c=c,\n",
    "            markevery=2)\n",
    "    ax.fill_between(\n",
    "        df.index,\n",
    "        df['lower_90'].values,\n",
    "        df['upper_90'].values,\n",
    "        color=ci,\n",
    "        lw=0)\n",
    "    ax.axhline(1.0, linestyle=':', lw=1)\n",
    "    \n",
    "    ax.xaxis.set_major_formatter(mdates.DateFormatter('%m/%d'))\n",
    "    ax.xaxis.set_major_locator(mdates.WeekdayLocator(interval=2))"
   ]
  },
  {
   "cell_type": "code",
   "execution_count": null,
   "metadata": {
    "colab": {},
    "colab_type": "code",
    "id": "x-Vivo1tFyNF"
   },
   "outputs": [],
   "source": [
    "result = run_model('West Bengal')\n",
    "plot_rt(df_from_result(result))"
   ]
  },
  {
   "cell_type": "markdown",
   "metadata": {
    "colab_type": "text",
    "id": "hoE3imDJSUgJ"
   },
   "source": [
    "## Kevin Systrom"
   ]
  },
  {
   "cell_type": "code",
   "execution_count": null,
   "metadata": {
    "colab": {},
    "colab_type": "code",
    "executionInfo": {
     "elapsed": 623,
     "status": "ok",
     "timestamp": 1592941108561,
     "user": {
      "displayName": "Sayan Samanta",
      "photoUrl": "https://lh3.googleusercontent.com/a-/AOh14GgOuT4BQxbOWcYTW_r0RQ02DqKvgrpoyxBKqxPAUi8=s64",
      "userId": "03850430243742702686"
     },
     "user_tz": 240
    },
    "id": "cVaXZhKjU92W"
   },
   "outputs": [],
   "source": [
    "import pandas as pd\n",
    "import numpy as np\n",
    "\n",
    "from matplotlib import pyplot as plt\n",
    "from matplotlib.dates import date2num, num2date\n",
    "from matplotlib import dates as mdates\n",
    "from matplotlib import ticker\n",
    "from matplotlib.colors import ListedColormap\n",
    "from matplotlib.patches import Patch\n",
    "\n",
    "from scipy import stats as sps\n",
    "from scipy.interpolate import interp1d\n",
    "\n",
    "from IPython.display import clear_output\n",
    "\n",
    "%config InlineBackend.figure_format = 'retina'"
   ]
  },
  {
   "cell_type": "code",
   "execution_count": null,
   "metadata": {
    "colab": {},
    "colab_type": "code",
    "id": "-jdGawB9fLcP"
   },
   "outputs": [],
   "source": [
    "# state_name = 'West Bengal'\n",
    "\n",
    "# def prepare_cases(cases, cutoff=25):\n",
    "#     new_cases = cases.diff()\n",
    "\n",
    "#     smoothed = new_cases.rolling(7,\n",
    "#         win_type='gaussian',\n",
    "#         min_periods=1,\n",
    "#         center=True).mean(std=2).round()\n",
    "    \n",
    "#     zeros = smoothed.index[smoothed.eq(0)]\n",
    "#     if len(zeros) == 0:\n",
    "#         idx_start = 0\n",
    "#     else:\n",
    "#         last_zero = zeros.max()\n",
    "#         idx_start = smoothed.index.get_loc(last_zero) + 1\n",
    "#     smoothed = smoothed.iloc[idx_start:]\n",
    "#     original = new_cases.loc[smoothed.index]\n",
    "    \n",
    "#     return original, smoothed\n",
    "\n",
    "# cases = states.xs(state_name).rename(f\"{state_name} cases\")\n",
    "# original, smoothed = prepare_cases(cases)\n",
    "\n",
    "# original.plot(title=f\"{state_name} New Cases per Day\",\n",
    "#                c='k',\n",
    "#                linestyle=':',\n",
    "#                alpha=.5,\n",
    "#                label='Actual',\n",
    "#                legend=True,\n",
    "#              figsize=(500/72, 300/72))\n",
    "\n",
    "# ax = smoothed.plot(label='Smoothed',\n",
    "#                    legend=True)\n",
    "\n",
    "# ax.get_figure().set_facecolor('w')"
   ]
  },
  {
   "cell_type": "code",
   "execution_count": null,
   "metadata": {
    "colab": {
     "base_uri": "https://localhost:8080/",
     "height": 411
    },
    "colab_type": "code",
    "executionInfo": {
     "elapsed": 812,
     "status": "ok",
     "timestamp": 1592941352031,
     "user": {
      "displayName": "Sayan Samanta",
      "photoUrl": "https://lh3.googleusercontent.com/a-/AOh14GgOuT4BQxbOWcYTW_r0RQ02DqKvgrpoyxBKqxPAUi8=s64",
      "userId": "03850430243742702686"
     },
     "user_tz": 240
    },
    "id": "uu5-GyZ1mi4e",
    "outputId": "70356ee9-a66b-4295-c3cf-86f6eea4baf6"
   },
   "outputs": [],
   "source": [
    "state_name = 'Maharashtra'\n",
    "\n",
    "def prepare_cases(cases):\n",
    "    new_cases = cases.diff()\n",
    "\n",
    "    smoothed = new_cases.rolling(7,\n",
    "        win_type='gaussian',\n",
    "        min_periods=1,\n",
    "        center=True).mean(std=2).round()\n",
    "    \n",
    "    zeros = smoothed.index[smoothed.eq(0)]\n",
    "    if len(zeros) == 0:\n",
    "        idx_start = 0\n",
    "    else:\n",
    "        last_zero = zeros.max()\n",
    "        idx_start = smoothed.index.get_loc(last_zero) + 1\n",
    "    smoothed = smoothed.iloc[idx_start:]\n",
    "    original = new_cases.loc[smoothed.index]\n",
    "    \n",
    "    return original, smoothed\n",
    "\n",
    "cases = states.xs(state_name).rename(f\"{state_name} cases\")\n",
    "\n",
    "original, smoothed = prepare_cases(cases)\n",
    "\n",
    "original.plot(title=f\"{state_name} New Cases per Day\",\n",
    "               c='k',\n",
    "               linestyle=':',\n",
    "               alpha=.5,\n",
    "               label='Actual',\n",
    "               legend=True,\n",
    "             figsize=(600/72, 400/72))\n",
    "\n",
    "ax = smoothed.plot(label='Smoothed',\n",
    "                   legend=True)\n",
    "ax.get_figure().set_facecolor('w')"
   ]
  },
  {
   "cell_type": "code",
   "execution_count": null,
   "metadata": {
    "colab": {},
    "colab_type": "code",
    "executionInfo": {
     "elapsed": 699,
     "status": "ok",
     "timestamp": 1592941355682,
     "user": {
      "displayName": "Sayan Samanta",
      "photoUrl": "https://lh3.googleusercontent.com/a-/AOh14GgOuT4BQxbOWcYTW_r0RQ02DqKvgrpoyxBKqxPAUi8=s64",
      "userId": "03850430243742702686"
     },
     "user_tz": 240
    },
    "id": "LUIA-wQSfpub"
   },
   "outputs": [],
   "source": [
    "GAMMA = 1/7\n",
    "R_T_MAX = 12\n",
    "r_t_range = np.linspace(0, R_T_MAX, R_T_MAX*100+1)\n",
    "# def get_posteriors(sr, sigma=0.15):\n",
    "\n",
    "#     # (1) Calculate Lambda\n",
    "#     lam = sr[:-1].values * np.exp(GAMMA * (r_t_range[:, None] - 1))\n",
    "\n",
    "    \n",
    "#     # (2) Calculate each day's likelihood\n",
    "#     likelihoods = pd.DataFrame(\n",
    "#         data = sps.poisson.pmf(sr[1:].values, lam),\n",
    "#         index = r_t_range,\n",
    "#         columns = sr.index[1:])\n",
    "    \n",
    "#     # (3) Create the Gaussian Matrix\n",
    "#     process_matrix = sps.norm(loc=r_t_range,\n",
    "#                               scale=sigma\n",
    "#                              ).pdf(r_t_range[:, None]) \n",
    "\n",
    "#     # (3a) Normalize all rows to sum to 1\n",
    "#     process_matrix /= process_matrix.sum(axis=0)\n",
    "    \n",
    "#     # (4) Calculate the initial prior\n",
    "#     #prior0 = sps.gamma(a=4).pdf(r_t_range)\n",
    "#     prior0 = np.ones_like(r_t_range)/len(r_t_range)\n",
    "#     prior0 /= prior0.sum()\n",
    "\n",
    "#     # Create a DataFrame that will hold our posteriors for each day\n",
    "#     # Insert our prior as the first posterior.\n",
    "#     posteriors = pd.DataFrame(\n",
    "#         index=r_t_range,\n",
    "#         columns=sr.index,\n",
    "#         data={sr.index[0]: prior0}\n",
    "#     )\n",
    "    \n",
    "#     # We said we'd keep track of the sum of the log of the probability\n",
    "#     # of the data for maximum likelihood calculation.\n",
    "#     log_likelihood = 0.0\n",
    "\n",
    "#     # (5) Iteratively apply Bayes' rule\n",
    "#     for previous_day, current_day in zip(sr.index[:-1], sr.index[1:]):\n",
    "\n",
    "#         #(5a) Calculate the new prior\n",
    "#         current_prior = process_matrix @ posteriors[previous_day]\n",
    "        \n",
    "#         #(5b) Calculate the numerator of Bayes' Rule: P(k|R_t)P(R_t)\n",
    "#         numerator = likelihoods[current_day] * current_prior\n",
    "        \n",
    "#         #(5c) Calcluate the denominator of Bayes' Rule P(k)\n",
    "#         denominator = np.sum(numerator)\n",
    "        \n",
    "#         # Execute full Bayes' Rule\n",
    "#         posteriors[current_day] = numerator/denominator\n",
    "        \n",
    "#         # Add to the running sum of log likelihoods\n",
    "#         log_likelihood += np.log(denominator)\n",
    "    \n",
    "#     return posteriors, log_likelihood\n",
    "\n",
    "# # Note that we're fixing sigma to a value just for the example\n",
    "# posteriors, log_likelihood = get_posteriors(smoothed, sigma=.25)"
   ]
  },
  {
   "cell_type": "code",
   "execution_count": null,
   "metadata": {
    "colab": {},
    "colab_type": "code",
    "executionInfo": {
     "elapsed": 600,
     "status": "ok",
     "timestamp": 1592941356993,
     "user": {
      "displayName": "Sayan Samanta",
      "photoUrl": "https://lh3.googleusercontent.com/a-/AOh14GgOuT4BQxbOWcYTW_r0RQ02DqKvgrpoyxBKqxPAUi8=s64",
      "userId": "03850430243742702686"
     },
     "user_tz": 240
    },
    "id": "rNVjLzxanH-A"
   },
   "outputs": [],
   "source": [
    "def get_posteriors(sr, window=7, min_periods=1):\n",
    "    lam = sr[:-1].values * np.exp(GAMMA * (r_t_range[:, None] - 1))\n",
    "\n",
    "    # Note: if you want to have a Uniform prior you can use the following line instead.\n",
    "    # I chose the gamma distribution because of our prior knowledge of the likely value\n",
    "    # of R_t.\n",
    "    \n",
    "    # prior0 = np.full(len(r_t_range), np.log(1/len(r_t_range)))\n",
    "    prior0 = np.log(sps.gamma(a=3).pdf(r_t_range) + 1e-14)\n",
    "\n",
    "    likelihoods = pd.DataFrame(\n",
    "        # Short-hand way of concatenating the prior and likelihoods\n",
    "        data = np.c_[prior0, sps.poisson.logpmf(sr[1:].values, lam)],\n",
    "        index = r_t_range,\n",
    "        columns = sr.index)\n",
    "\n",
    "    # Perform a rolling sum of log likelihoods. This is the equivalent\n",
    "    # of multiplying the original distributions. Exponentiate to move\n",
    "    # out of log.\n",
    "    posteriors = likelihoods.rolling(window,\n",
    "                                     axis=1,\n",
    "                                     min_periods=min_periods).sum()\n",
    "    posteriors = np.exp(posteriors)\n",
    "\n",
    "    # Normalize to 1.0\n",
    "    posteriors = posteriors.div(posteriors.sum(axis=0), axis=1)\n",
    "    \n",
    "    return posteriors\n",
    "\n",
    "posteriors = get_posteriors(smoothed)"
   ]
  },
  {
   "cell_type": "code",
   "execution_count": null,
   "metadata": {
    "colab": {
     "base_uri": "https://localhost:8080/",
     "height": 296
    },
    "colab_type": "code",
    "executionInfo": {
     "elapsed": 884,
     "status": "ok",
     "timestamp": 1592941359534,
     "user": {
      "displayName": "Sayan Samanta",
      "photoUrl": "https://lh3.googleusercontent.com/a-/AOh14GgOuT4BQxbOWcYTW_r0RQ02DqKvgrpoyxBKqxPAUi8=s64",
      "userId": "03850430243742702686"
     },
     "user_tz": 240
    },
    "id": "h5UPSk1RhpCd",
    "outputId": "5656d7d4-40bd-4525-f814-97edb75fb3dd"
   },
   "outputs": [],
   "source": [
    "ax = posteriors.plot(title=f'{state_name} - Daily Posterior for $R_t$',\n",
    "           legend=False, \n",
    "           lw=1,\n",
    "           c='k',\n",
    "           alpha=.3,\n",
    "           xlim=(0.4,6))\n",
    "\n",
    "ax.set_xlabel('$R_t$');"
   ]
  },
  {
   "cell_type": "code",
   "execution_count": null,
   "metadata": {
    "colab": {},
    "colab_type": "code",
    "executionInfo": {
     "elapsed": 773,
     "status": "ok",
     "timestamp": 1592941361739,
     "user": {
      "displayName": "Sayan Samanta",
      "photoUrl": "https://lh3.googleusercontent.com/a-/AOh14GgOuT4BQxbOWcYTW_r0RQ02DqKvgrpoyxBKqxPAUi8=s64",
      "userId": "03850430243742702686"
     },
     "user_tz": 240
    },
    "id": "2R_3VB_dh-EB"
   },
   "outputs": [],
   "source": [
    "def highest_density_interval(pmf, p=.9, debug=False):\n",
    "    # If we pass a DataFrame, just call this recursively on the columns\n",
    "    if(isinstance(pmf, pd.DataFrame)):\n",
    "        return pd.DataFrame([highest_density_interval(pmf[col], p=p) for col in pmf],\n",
    "                            index=pmf.columns)\n",
    "    \n",
    "    cumsum = np.cumsum(pmf.values)\n",
    "    \n",
    "    # N x N matrix of total probability mass for each low, high\n",
    "    total_p = cumsum - cumsum[:, None]\n",
    "    \n",
    "    # Return all indices with total_p > p\n",
    "    lows, highs = (total_p > p).nonzero()\n",
    "\n",
    "    # Find the smallest range (highest density)\n",
    "    best = (highs - lows).argmin()\n",
    "    low = pmf.index[lows[best]]\n",
    "    high = pmf.index[highs[best]]\n",
    "    \n",
    "    return pd.Series([low, high],\n",
    "                     index=[f'Low_{p*100:.0f}',\n",
    "                            f'High_{p*100:.0f}'])\n",
    "\n",
    "def highest_density_interval_BF(pmf, p=.95):\n",
    "    \n",
    "    # If we pass a DataFrame, just call this recursively on the columns\n",
    "    if(isinstance(pmf, pd.DataFrame)):\n",
    "        return pd.DataFrame([highest_density_interval_BF(pmf[col]) for col in pmf],\n",
    "                            index=pmf.columns)\n",
    "    \n",
    "    cumsum = np.cumsum(pmf.values)\n",
    "    best = None\n",
    "    for i, value in enumerate(cumsum):\n",
    "        for j, high_value in enumerate(cumsum[i+1:]):\n",
    "            if (high_value-value > p) and (not best or j<best[1]-best[0]):\n",
    "                best = (i, i+j+1)\n",
    "                break\n",
    "            \n",
    "    low = pmf.index[best[0]]\n",
    "    high = pmf.index[best[1]]\n",
    "    return pd.Series([low, high], index=['Low', 'High'])"
   ]
  },
  {
   "cell_type": "code",
   "execution_count": null,
   "metadata": {
    "colab": {
     "base_uri": "https://localhost:8080/",
     "height": 238
    },
    "colab_type": "code",
    "executionInfo": {
     "elapsed": 794,
     "status": "ok",
     "timestamp": 1592941363612,
     "user": {
      "displayName": "Sayan Samanta",
      "photoUrl": "https://lh3.googleusercontent.com/a-/AOh14GgOuT4BQxbOWcYTW_r0RQ02DqKvgrpoyxBKqxPAUi8=s64",
      "userId": "03850430243742702686"
     },
     "user_tz": 240
    },
    "id": "zsrDbcncgCgc",
    "outputId": "8ac6e08c-cfb0-46d1-bac3-ded8127950d4"
   },
   "outputs": [],
   "source": [
    "# Note that this takes a while to execute - it's not the most efficient algorithm\n",
    "hdis = highest_density_interval(posteriors, p=.9)\n",
    "\n",
    "most_likely = posteriors.idxmax().rename('ML')\n",
    "\n",
    "# Look into why you shift -1\n",
    "result = pd.concat([most_likely, hdis], axis=1)\n",
    "\n",
    "result.tail()"
   ]
  },
  {
   "cell_type": "code",
   "execution_count": null,
   "metadata": {
    "colab": {
     "base_uri": "https://localhost:8080/",
     "height": 366
    },
    "colab_type": "code",
    "executionInfo": {
     "elapsed": 1199,
     "status": "ok",
     "timestamp": 1592941366880,
     "user": {
      "displayName": "Sayan Samanta",
      "photoUrl": "https://lh3.googleusercontent.com/a-/AOh14GgOuT4BQxbOWcYTW_r0RQ02DqKvgrpoyxBKqxPAUi8=s64",
      "userId": "03850430243742702686"
     },
     "user_tz": 240
    },
    "id": "rTDBZOrah0YG",
    "outputId": "58aa4479-261c-4283-9e9d-4325bf575518"
   },
   "outputs": [],
   "source": [
    "def plot_rt(result, ax, state_name):\n",
    "    \n",
    "    ax.set_title(f\"{state_name}\")\n",
    "    \n",
    "    # Colors\n",
    "    ABOVE = [1,0,0]\n",
    "    MIDDLE = [1,1,1]\n",
    "    BELOW = [0,0,0]\n",
    "    cmap = ListedColormap(np.r_[\n",
    "        np.linspace(BELOW,MIDDLE,25),\n",
    "        np.linspace(MIDDLE,ABOVE,25)\n",
    "    ])\n",
    "    color_mapped = lambda y: np.clip(y, .5, 1.5)-.5\n",
    "    \n",
    "    index = result['ML'].index.get_level_values('Date Announced')\n",
    "    values = result['ML'].values\n",
    "    \n",
    "    # Plot dots and line\n",
    "    ax.plot(index, values, c='k', zorder=1, alpha=.25)\n",
    "    ax.scatter(index,\n",
    "               values,\n",
    "               s=40,\n",
    "               lw=.5,\n",
    "               c=cmap(color_mapped(values)),\n",
    "               edgecolors='k', zorder=2)\n",
    "    \n",
    "    # Aesthetically, extrapolate credible interval by 1 day either side\n",
    "    lowfn = interp1d(date2num(index),\n",
    "                     result['Low_90'].values,\n",
    "                     bounds_error=False,\n",
    "                     fill_value='extrapolate')\n",
    "    \n",
    "    highfn = interp1d(date2num(index),\n",
    "                      result['High_90'].values,\n",
    "                      bounds_error=False,\n",
    "                      fill_value='extrapolate')\n",
    "    \n",
    "    extended = pd.date_range(start=pd.Timestamp('2020-03-01'),\n",
    "                             end=index[-1]+pd.Timedelta(days=1))\n",
    "    \n",
    "    ax.fill_between(extended,\n",
    "                    lowfn(date2num(extended)),\n",
    "                    highfn(date2num(extended)),\n",
    "                    color='k',\n",
    "                    alpha=.1,\n",
    "                    lw=0,\n",
    "                    zorder=3)\n",
    "\n",
    "    ax.axhline(1.0, c='k', lw=1, label='$R_t=1.0$', alpha=.25);\n",
    "    \n",
    "    # Formatting\n",
    "    ax.xaxis.set_major_locator(mdates.MonthLocator())\n",
    "    ax.xaxis.set_major_formatter(mdates.DateFormatter('%b'))\n",
    "    ax.xaxis.set_minor_locator(mdates.DayLocator())\n",
    "    \n",
    "    ax.yaxis.set_major_locator(ticker.MultipleLocator(1))\n",
    "    ax.yaxis.set_major_formatter(ticker.StrMethodFormatter(\"{x:.1f}\"))\n",
    "    ax.yaxis.tick_right()\n",
    "    ax.spines['left'].set_visible(False)\n",
    "    ax.spines['bottom'].set_visible(False)\n",
    "    ax.spines['right'].set_visible(False)\n",
    "    ax.margins(0)\n",
    "    ax.grid(which='major', axis='y', c='k', alpha=.1, zorder=-2)\n",
    "    ax.margins(0)\n",
    "    ax.set_ylim(0.0, 5.0)\n",
    "    ax.set_xlim(pd.Timestamp('2020-03-1'), result.index.get_level_values('Date Announced')[-1]+pd.Timedelta(days=1))\n",
    "    fig.set_facecolor('w')\n",
    "\n",
    "    \n",
    "fig, ax = plt.subplots(figsize=(600/72,400/72))\n",
    "\n",
    "plot_rt(result, ax, state_name)\n",
    "ax.set_title(f'Real-time $R_t$ for {state_name}')\n",
    "ax.xaxis.set_major_locator(mdates.WeekdayLocator())\n",
    "ax.xaxis.set_major_formatter(mdates.DateFormatter('%b %d'))"
   ]
  },
  {
   "cell_type": "code",
   "execution_count": null,
   "metadata": {
    "colab": {
     "base_uri": "https://localhost:8080/",
     "height": 243
    },
    "colab_type": "code",
    "executionInfo": {
     "elapsed": 262,
     "status": "ok",
     "timestamp": 1592940855147,
     "user": {
      "displayName": "Sayan Samanta",
      "photoUrl": "https://lh3.googleusercontent.com/a-/AOh14GgOuT4BQxbOWcYTW_r0RQ02DqKvgrpoyxBKqxPAUi8=s64",
      "userId": "03850430243742702686"
     },
     "user_tz": 240
    },
    "id": "I9NFHPDTrHOy",
    "outputId": "9300bce2-1830-469c-ad7d-8b0fb6a26374"
   },
   "outputs": [],
   "source": [
    "states"
   ]
  },
  {
   "cell_type": "code",
   "execution_count": null,
   "metadata": {
    "colab": {
     "base_uri": "https://localhost:8080/",
     "height": 89
    },
    "colab_type": "code",
    "executionInfo": {
     "elapsed": 14090,
     "status": "ok",
     "timestamp": 1592941385919,
     "user": {
      "displayName": "Sayan Samanta",
      "photoUrl": "https://lh3.googleusercontent.com/a-/AOh14GgOuT4BQxbOWcYTW_r0RQ02DqKvgrpoyxBKqxPAUi8=s64",
      "userId": "03850430243742702686"
     },
     "user_tz": 240
    },
    "id": "VkioAi5GiWk0",
    "outputId": "9a79e5cc-3f83-42bf-878e-3125c50f2d35"
   },
   "outputs": [],
   "source": [
    "results = {}\n",
    "# highest_density_interval seems to fail for China & France, haven't figured out why\n",
    "# also filter out countries where smoothed data has less than 10 rows\n",
    "FILTERED_STATES = [np.nan]\n",
    "\n",
    "states_to_process = states.loc[~states.index.get_level_values('Detected State').isin(FILTERED_STATES)]\n",
    "failed_states = []\n",
    "\n",
    "for state_name, cases in states_to_process.groupby(level='Detected State'):\n",
    "    clear_output(wait=True)\n",
    "    print(f'Processing {state_name}')\n",
    "    new, smoothed = prepare_cases(cases)\n",
    "    if (len(smoothed) < 10):\n",
    "      print(f\"Skipping {state_name}, too few cases from smoothing algorithm\")\n",
    "      failed_states.append(state_name)\n",
    "      continue\n",
    "\n",
    "    print('\\tGetting Posteriors')\n",
    "    try:\n",
    "        posteriors = get_posteriors(smoothed)\n",
    "    except:\n",
    "        display(cases)\n",
    "    print('\\tGetting HDIs')\n",
    "    try:\n",
    "      hdis = highest_density_interval(posteriors)\n",
    "    except:\n",
    "      print(f\"Error with {state_name}\")\n",
    "      FILTERED_STATES.append(state_name)\n",
    "\n",
    "      continue\n",
    "    print('\\tGetting most likely values')\n",
    "    most_likely = posteriors.idxmax().rename('ML')\n",
    "    result = pd.concat([most_likely, hdis], axis=1)\n",
    "    results[state_name] = result.droplevel(0)\n",
    "    \n",
    "clear_output(wait=True)\n",
    "print(f\"Countries skipped due to low smoothed counts: {failed_states}\")\n",
    "print(f\"Countries skipped due to HDI errors: {FILTERED_STATES}\")\n",
    "print('Done.')"
   ]
  },
  {
   "cell_type": "code",
   "execution_count": null,
   "metadata": {
    "colab": {
     "base_uri": "https://localhost:8080/",
     "height": 1000
    },
    "colab_type": "code",
    "executionInfo": {
     "elapsed": 14148,
     "status": "ok",
     "timestamp": 1592941407266,
     "user": {
      "displayName": "Sayan Samanta",
      "photoUrl": "https://lh3.googleusercontent.com/a-/AOh14GgOuT4BQxbOWcYTW_r0RQ02DqKvgrpoyxBKqxPAUi8=s64",
      "userId": "03850430243742702686"
     },
     "user_tz": 240
    },
    "id": "AMDD4zodqMF7",
    "outputId": "d6ad1de6-25f9-4c96-e52e-51b5528c9a60"
   },
   "outputs": [],
   "source": [
    "ncols = 4\n",
    "nrows = int(np.ceil(len(results) / ncols))\n",
    "\n",
    "fig, axes = plt.subplots(nrows=nrows, ncols=ncols, figsize=(15, nrows*3))\n",
    "\n",
    "\n",
    "for i, (state_name, result) in enumerate(results.items()):\n",
    "    if (len(result) >= 2):\n",
    "      plot_rt(result, axes.flat[i], state_name)\n",
    "    else:\n",
    "      FILTERED_STATES.append(state_name)\n",
    "\n",
    "fig.tight_layout()\n",
    "fig.set_facecolor('w')\n",
    "\n"
   ]
  },
  {
   "cell_type": "code",
   "execution_count": null,
   "metadata": {
    "colab": {},
    "colab_type": "code",
    "executionInfo": {
     "elapsed": 581,
     "status": "ok",
     "timestamp": 1592941415600,
     "user": {
      "displayName": "Sayan Samanta",
      "photoUrl": "https://lh3.googleusercontent.com/a-/AOh14GgOuT4BQxbOWcYTW_r0RQ02DqKvgrpoyxBKqxPAUi8=s64",
      "userId": "03850430243742702686"
     },
     "user_tz": 240
    },
    "id": "6lDZ241KrslT"
   },
   "outputs": [],
   "source": [
    "overall = None\n",
    "\n",
    "for state_name, result in results.items():\n",
    "    r = result.copy()\n",
    "    r.index = pd.MultiIndex.from_product([[state_name], result.index])\n",
    "    if overall is None:\n",
    "        overall = r\n",
    "    else:\n",
    "        overall = pd.concat([overall, r])\n",
    "\n",
    "overall.sort_index(inplace=True)"
   ]
  },
  {
   "cell_type": "code",
   "execution_count": null,
   "metadata": {
    "colab": {},
    "colab_type": "code",
    "executionInfo": {
     "elapsed": 850,
     "status": "ok",
     "timestamp": 1592941422213,
     "user": {
      "displayName": "Sayan Samanta",
      "photoUrl": "https://lh3.googleusercontent.com/a-/AOh14GgOuT4BQxbOWcYTW_r0RQ02DqKvgrpoyxBKqxPAUi8=s64",
      "userId": "03850430243742702686"
     },
     "user_tz": 240
    },
    "id": "QK5HbxVItQkd"
   },
   "outputs": [],
   "source": [
    "FULL_COLOR = [.7,.7,.7]\n",
    "NONE_COLOR = [179/255,35/255,14/255]\n",
    "PARTIAL_COLOR = [.5,.5,.5]\n",
    "ERROR_BAR_COLOR = [.3,.3,.3]"
   ]
  },
  {
   "cell_type": "code",
   "execution_count": null,
   "metadata": {
    "colab": {},
    "colab_type": "code",
    "executionInfo": {
     "elapsed": 451,
     "status": "ok",
     "timestamp": 1592941821647,
     "user": {
      "displayName": "Sayan Samanta",
      "photoUrl": "https://lh3.googleusercontent.com/a-/AOh14GgOuT4BQxbOWcYTW_r0RQ02DqKvgrpoyxBKqxPAUi8=s64",
      "userId": "03850430243742702686"
     },
     "user_tz": 240
    },
    "id": "sAhtYlMctSKO"
   },
   "outputs": [],
   "source": [
    "filtered = overall.index.get_level_values(0).isin(FILTERED_STATES)\n",
    "mr = overall.loc[~filtered].groupby(level=0)[['ML', 'High_90', 'Low_90']].last()\n",
    "\n",
    "def plot_standings(mr, figsize=None, title='Most Recent $R_t$ by County'):\n",
    "    if not figsize:\n",
    "        figsize = ((15.9/50)*len(mr)+.1,2.5)\n",
    "        \n",
    "    fig, ax = plt.subplots(figsize=figsize)\n",
    "\n",
    "    ax.set_title(title)\n",
    "    err = mr[['Low_90', 'High_90']].sub(mr['ML'], axis=0).abs()\n",
    "    bars = ax.bar(mr.index,\n",
    "                  mr['ML'],\n",
    "                  width=.825,\n",
    "                  color=FULL_COLOR,\n",
    "                  ecolor=ERROR_BAR_COLOR,\n",
    "                  capsize=2,\n",
    "                  error_kw={'alpha':.5, 'lw':1},\n",
    "                  yerr=err.values.T)\n",
    "\n",
    "    labels = mr.index.to_series()\n",
    "    ax.set_xticklabels(labels, rotation=90, fontsize=11)\n",
    "    ax.margins(0)\n",
    "    ax.set_ylim(0,2.)\n",
    "    ax.axhline(1.0, linestyle=':', color='k', lw=1)\n",
    "\n",
    "    fig.set_facecolor('w')\n",
    "    return fig, ax\n",
    "\n",
    "#mr.sort_values('ML', inplace=True)\n",
    "#plot_standings(mr, title = 'Most Likely Recent $R_t$ by State');"
   ]
  },
  {
   "cell_type": "code",
   "execution_count": null,
   "metadata": {
    "colab": {
     "base_uri": "https://localhost:8080/",
     "height": 301
    },
    "colab_type": "code",
    "executionInfo": {
     "elapsed": 896,
     "status": "ok",
     "timestamp": 1592941825490,
     "user": {
      "displayName": "Sayan Samanta",
      "photoUrl": "https://lh3.googleusercontent.com/a-/AOh14GgOuT4BQxbOWcYTW_r0RQ02DqKvgrpoyxBKqxPAUi8=s64",
      "userId": "03850430243742702686"
     },
     "user_tz": 240
    },
    "id": "fM5LswvftZQ4",
    "outputId": "8bea86cc-1081-4068-fec7-9e1cf14775c6"
   },
   "outputs": [],
   "source": [
    "mr.sort_values('High_90', inplace=True)\n",
    "plot_standings(mr, title = 'Most Likely (High) Recent $R_t$ by State');"
   ]
  },
  {
   "cell_type": "code",
   "execution_count": null,
   "metadata": {
    "colab": {
     "base_uri": "https://localhost:8080/",
     "height": 301
    },
    "colab_type": "code",
    "executionInfo": {
     "elapsed": 1060,
     "status": "ok",
     "timestamp": 1592941690268,
     "user": {
      "displayName": "Sayan Samanta",
      "photoUrl": "https://lh3.googleusercontent.com/a-/AOh14GgOuT4BQxbOWcYTW_r0RQ02DqKvgrpoyxBKqxPAUi8=s64",
      "userId": "03850430243742702686"
     },
     "user_tz": 240
    },
    "id": "KmfcHSH1tvJL",
    "outputId": "e7b618ee-b24a-41b2-9c9b-9245e8a07269"
   },
   "outputs": [],
   "source": [
    "mr.sort_values('Low_90', inplace=True)\n",
    "plot_standings(mr, title = 'Most Likely (Low) Recent $R_t$ by County');"
   ]
  },
  {
   "cell_type": "code",
   "execution_count": null,
   "metadata": {
    "colab": {
     "base_uri": "https://localhost:8080/",
     "height": 280
    },
    "colab_type": "code",
    "executionInfo": {
     "elapsed": 717,
     "status": "ok",
     "timestamp": 1592941720909,
     "user": {
      "displayName": "Sayan Samanta",
      "photoUrl": "https://lh3.googleusercontent.com/a-/AOh14GgOuT4BQxbOWcYTW_r0RQ02DqKvgrpoyxBKqxPAUi8=s64",
      "userId": "03850430243742702686"
     },
     "user_tz": 240
    },
    "id": "Y1Do3NuzuSWq",
    "outputId": "0cbe5b41-0f87-48ed-d095-5e97ac925a62"
   },
   "outputs": [],
   "source": [
    "show = mr[mr.High_90.le(1.1)].sort_values('ML')\n",
    "fig, ax = plot_standings(show, title='Likely Under Control');"
   ]
  },
  {
   "cell_type": "code",
   "execution_count": null,
   "metadata": {
    "colab": {
     "base_uri": "https://localhost:8080/",
     "height": 300
    },
    "colab_type": "code",
    "executionInfo": {
     "elapsed": 444,
     "status": "ok",
     "timestamp": 1592941747354,
     "user": {
      "displayName": "Sayan Samanta",
      "photoUrl": "https://lh3.googleusercontent.com/a-/AOh14GgOuT4BQxbOWcYTW_r0RQ02DqKvgrpoyxBKqxPAUi8=s64",
      "userId": "03850430243742702686"
     },
     "user_tz": 240
    },
    "id": "Yx2Seh5uuZOI",
    "outputId": "3a72fe4e-f2fb-42ce-fd16-ff44d7ff1604"
   },
   "outputs": [],
   "source": [
    "show = mr[mr.Low_90.ge(1.05)].sort_values('Low_90')\n",
    "fig, ax = plot_standings(show, title='Likely Not Under Control');"
   ]
  },
  {
   "cell_type": "code",
   "execution_count": null,
   "metadata": {
    "colab": {},
    "colab_type": "code",
    "id": "5E8-HZdgueVH"
   },
   "outputs": [],
   "source": []
  }
 ],
 "metadata": {
  "colab": {
   "authorship_tag": "ABX9TyNpM1R/nFJaYsv5XBM6twhw",
   "collapsed_sections": [],
   "name": "COVID India.ipynb",
   "provenance": []
  },
  "kernelspec": {
   "display_name": "Python 3",
   "language": "python",
   "name": "python3"
  },
  "language_info": {
   "codemirror_mode": {
    "name": "ipython",
    "version": 3
   },
   "file_extension": ".py",
   "mimetype": "text/x-python",
   "name": "python",
   "nbconvert_exporter": "python",
   "pygments_lexer": "ipython3",
   "version": "3.8.2"
  }
 },
 "nbformat": 4,
 "nbformat_minor": 1
}
